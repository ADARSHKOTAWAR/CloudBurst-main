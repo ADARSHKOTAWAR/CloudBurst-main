{
 "cells": [
  {
   "cell_type": "code",
   "execution_count": 1,
   "id": "e74e2374-fc4d-43f0-a87b-45a543502c36",
   "metadata": {},
   "outputs": [],
   "source": [
    "import streamlit as st\n",
    "import pickle"
   ]
  },
  {
   "cell_type": "code",
   "execution_count": 5,
   "id": "fda87079-ced4-43ca-88b8-b0966cca3dd2",
   "metadata": {},
   "outputs": [
    {
     "data": {
      "text/plain": [
       "DeltaGenerator()"
      ]
     },
     "execution_count": 5,
     "metadata": {},
     "output_type": "execute_result"
    }
   ],
   "source": [
    "page = \"\"\"\n",
    "<style>\n",
    "body {\n",
    "    font-family: Arial, sans-serif;\n",
    "    background-color: #f0f2f6;\n",
    "}\n",
    ".stTextInput > div > div > input {\n",
    "    background-color: rgba(255, 255, 255, 0.7);\n",
    "}\n",
    ".stNumberInput > div > div > input {\n",
    "    background-color: rgba(255, 255, 255, 0.7);\n",
    "}\n",
    ".stButton > button {\n",
    "    background-color: #4CAF50;\n",
    "    color: white;\n",
    "    padding: 10px 20px;\n",
    "    border: none;\n",
    "    border-radius: 5px;\n",
    "    cursor: pointer;\n",
    "    transition: background-color 0.3s;\n",
    "}\n",
    ".stButton > button:hover {\n",
    "    background-color: #45a049;\n",
    "}\n",
    "</style>\n",
    "\"\"\"\n",
    "st.markdown(page, unsafe_allow_html=True)"
   ]
  },
  {
   "cell_type": "code",
   "execution_count": 6,
   "id": "976e4565-e7a2-4310-96f9-b4b7b973ad98",
   "metadata": {},
   "outputs": [],
   "source": [
    "# Load the trained model\n",
    "model = pickle.load(open(\"cbmodel.pkl\", \"rb\"))"
   ]
  },
  {
   "cell_type": "code",
   "execution_count": 7,
   "id": "b3aecb30-cede-4e71-97bb-7be2cd3bc21e",
   "metadata": {},
   "outputs": [
    {
     "data": {
      "text/plain": [
       "DeltaGenerator()"
      ]
     },
     "execution_count": 7,
     "metadata": {},
     "output_type": "execute_result"
    }
   ],
   "source": [
    "# Set title and input fields\n",
    "st.title(\"CloudBurst Predictor\")\n",
    "st.subheader(\"Enter the following parameters:\")"
   ]
  },
  {
   "cell_type": "code",
   "execution_count": 12,
   "id": "24cf3534-1748-42f0-af2e-b32bc2427e07",
   "metadata": {},
   "outputs": [],
   "source": [
    "input_tem = st.number_input(\"Temperature (°C)\")\n",
    "input_atem = st.number_input(\"Apparent Temperature (°C)\")\n",
    "input_hum = st.number_input(\"Humidity (%)\")\n",
    "input_ws = st.number_input(\"Wind Speed (km/h)\")\n",
    "input_wb = st.number_input(\"Wind Bearing (°)\")\n",
    "input_vis = st.number_input(\"Visibility (km)\")\n",
    "input_pre = st.number_input(\"Pressure (mb)\")"
   ]
  },
  {
   "cell_type": "code",
   "execution_count": 13,
   "id": "531d5d29-fe7b-4617-a56f-429318145de3",
   "metadata": {},
   "outputs": [],
   "source": [
    "# Predict cloudburst based on input\n",
    "if st.button(\"Predict\"):\n",
    "    pred = [[input_tem, input_atem, input_hum, input_ws, input_wb, input_vis, input_pre]]\n",
    "    result = model.predict(pred)\n",
    "    st.subheader(\"Prediction Result:\")\n",
    "    if result == 0:\n",
    "        st.error(\"Risk of Cloudburst is high.\")\n",
    "        print(result) \n",
    "    else:\n",
    "        st.success(\"No risk of Cloudburst.\")\n",
    "        print(result) "
   ]
  },
  {
   "cell_type": "code",
   "execution_count": null,
   "id": "9dad4f88-d22f-442a-8e44-0fc4a682c477",
   "metadata": {},
   "outputs": [],
   "source": []
  },
  {
   "cell_type": "code",
   "execution_count": null,
   "id": "6a30129b-58d0-4385-bbf5-6cce5cbc0a88",
   "metadata": {},
   "outputs": [],
   "source": []
  }
 ],
 "metadata": {
  "kernelspec": {
   "display_name": "Python 3 (ipykernel)",
   "language": "python",
   "name": "python3"
  },
  "language_info": {
   "codemirror_mode": {
    "name": "ipython",
    "version": 3
   },
   "file_extension": ".py",
   "mimetype": "text/x-python",
   "name": "python",
   "nbconvert_exporter": "python",
   "pygments_lexer": "ipython3",
   "version": "3.12.2"
  }
 },
 "nbformat": 4,
 "nbformat_minor": 5
}
