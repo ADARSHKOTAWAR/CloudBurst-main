{
 "cells": [
  {
   "cell_type": "code",
   "execution_count": 1,
   "id": "e74e2374-fc4d-43f0-a87b-45a543502c36",
   "metadata": {},
   "outputs": [],
   "source": [
    "import streamlit as st\n",
    "import pickle"
   ]
  },
  {
   "cell_type": "code",
   "execution_count": 5,
   "id": "fda87079-ced4-43ca-88b8-b0966cca3dd2",
   "metadata": {},
   "outputs": [
    {
     "data": {
      "text/plain": [
       "DeltaGenerator()"
      ]
     },
     "execution_count": 5,
     "metadata": {},
     "output_type": "execute_result"
    }
   ],
   "source": [
    "page = \"\"\"\n",
    "<style>\n",
    "body {\n",
    "    font-family: Arial, sans-serif;\n",
    "    background-color: #f0f2f6;\n",
    "}\n",
    ".stTextInput > div > div > input {\n",
    "    background-color: rgba(255, 255, 255, 0.7);\n",
    "}\n",
    ".stNumberInput > div > div > input {\n",
    "    background-color: rgba(255, 255, 255, 0.7);\n",
    "}\n",
    ".stButton > button {\n",
    "    background-color: #4CAF50;\n",
    "    color: white;\n",
    "    padding: 10px 20px;\n",
    "    border: none;\n",
    "    border-radius: 5px;\n",
    "    cursor: pointer;\n",
    "    transition: background-color 0.3s;\n",
    "}\n",
    ".stButton > button:hover {\n",
    "    background-color: #45a049;\n",
    "}\n",
    "</style>\n",
    "\"\"\"\n",
    "st.markdown(page, unsafe_allow_html=True)"
   ]
  },
  {
   "cell_type": "code",
   "execution_count": 6,
   "id": "976e4565-e7a2-4310-96f9-b4b7b973ad98",
   "metadata": {},
   "outputs": [],
   "source": [
    "# Load the trained model\n",
    "model = pickle.load(open(\"cbmodel.pkl\", \"rb\"))"
   ]
  },
  {
   "cell_type": "code",
   "execution_count": 7,
   "id": "b3aecb30-cede-4e71-97bb-7be2cd3bc21e",
   "metadata": {},
   "outputs": [
    {
     "data": {
      "text/plain": [
       "DeltaGenerator()"
      ]
     },
     "execution_count": 7,
     "metadata": {},
     "output_type": "execute_result"
    }
   ],
   "source": [
    "# Set title and input fields\n",
    "st.title(\"CloudBurst Predictor\")\n",
    "st.subheader(\"Enter the following parameters:\")"
   ]
  },
  {
   "cell_type": "code",
   "execution_count": 12,
   "id": "24cf3534-1748-42f0-af2e-b32bc2427e07",
   "metadata": {},
   "outputs": [],
   "source": [
    "input_tem = st.number_input(\"Temperature (°C)\")\n",
    "input_atem = st.number_input(\"Apparent Temperature (°C)\")\n",
    "input_hum = st.number_input(\"Humidity (%)\")\n",
    "input_ws = st.number_input(\"Wind Speed (km/h)\")\n",
    "input_wb = st.number_input(\"Wind Bearing (°)\")\n",
    "input_vis = st.number_input(\"Visibility (km)\")\n",
    "input_pre = st.number_input(\"Pressure (mb)\")"
   ]
  },
  {
   "cell_type": "code",
   "execution_count": 13,
   "id": "531d5d29-fe7b-4617-a56f-429318145de3",
   "metadata": {},
   "outputs": [],
   "source": [
    "# Predict cloudburst based on input\n",
    "if st.button(\"Predict\"):\n",
    "    pred = [[input_tem, input_atem, input_hum, input_ws, input_wb, input_vis, input_pre]]\n",
    "    result = model.predict(pred)\n",
    "    st.subheader(\"Prediction Result:\")\n",
    "    if result == 0:\n",
    "        st.error(\"Risk of Cloudburst is high.\")\n",
    "        print(result) \n",
    "    else:\n",
    "        st.success(\"No risk of Cloudburst.\")\n",
    "        print(result) "
   ]
  },
  {
   "cell_type": "code",
   "execution_count": 15,
   "id": "9dad4f88-d22f-442a-8e44-0fc4a682c477",
   "metadata": {},
   "outputs": [
    {
     "name": "stdout",
     "output_type": "stream",
     "text": [
      "Defaulting to user installation because normal site-packages is not writeable\n",
      "Requirement already satisfied: streamlit in c:\\users\\adarsh kotawar\\appdata\\roaming\\python\\python312\\site-packages (1.35.0)\n",
      "Requirement already satisfied: altair<6,>=4.0 in c:\\users\\adarsh kotawar\\appdata\\roaming\\python\\python312\\site-packages (from streamlit) (5.3.0)\n",
      "Requirement already satisfied: blinker<2,>=1.0.0 in c:\\users\\adarsh kotawar\\appdata\\roaming\\python\\python312\\site-packages (from streamlit) (1.8.2)\n",
      "Requirement already satisfied: cachetools<6,>=4.0 in c:\\users\\adarsh kotawar\\appdata\\roaming\\python\\python312\\site-packages (from streamlit) (5.3.3)\n",
      "Requirement already satisfied: click<9,>=7.0 in c:\\users\\adarsh kotawar\\appdata\\roaming\\python\\python312\\site-packages (from streamlit) (8.1.7)\n",
      "Requirement already satisfied: numpy<2,>=1.19.3 in c:\\users\\adarsh kotawar\\appdata\\roaming\\python\\python312\\site-packages (from streamlit) (1.26.4)\n",
      "Requirement already satisfied: packaging<25,>=16.8 in c:\\users\\adarsh kotawar\\appdata\\roaming\\python\\python312\\site-packages (from streamlit) (23.2)\n",
      "Requirement already satisfied: pandas<3,>=1.3.0 in c:\\users\\adarsh kotawar\\appdata\\roaming\\python\\python312\\site-packages (from streamlit) (2.2.1)\n",
      "Requirement already satisfied: pillow<11,>=7.1.0 in c:\\users\\adarsh kotawar\\appdata\\roaming\\python\\python312\\site-packages (from streamlit) (10.3.0)\n",
      "Requirement already satisfied: protobuf<5,>=3.20 in c:\\users\\adarsh kotawar\\appdata\\roaming\\python\\python312\\site-packages (from streamlit) (4.25.3)\n",
      "Requirement already satisfied: pyarrow>=7.0 in c:\\users\\adarsh kotawar\\appdata\\roaming\\python\\python312\\site-packages (from streamlit) (16.1.0)\n",
      "Requirement already satisfied: requests<3,>=2.27 in c:\\users\\adarsh kotawar\\appdata\\roaming\\python\\python312\\site-packages (from streamlit) (2.31.0)\n",
      "Requirement already satisfied: rich<14,>=10.14.0 in c:\\users\\adarsh kotawar\\appdata\\roaming\\python\\python312\\site-packages (from streamlit) (13.7.1)\n",
      "Requirement already satisfied: tenacity<9,>=8.1.0 in c:\\users\\adarsh kotawar\\appdata\\roaming\\python\\python312\\site-packages (from streamlit) (8.3.0)\n",
      "Requirement already satisfied: toml<2,>=0.10.1 in c:\\users\\adarsh kotawar\\appdata\\roaming\\python\\python312\\site-packages (from streamlit) (0.10.2)\n",
      "Requirement already satisfied: typing-extensions<5,>=4.3.0 in c:\\users\\adarsh kotawar\\appdata\\roaming\\python\\python312\\site-packages (from streamlit) (4.12.2)\n",
      "Requirement already satisfied: gitpython!=3.1.19,<4,>=3.0.7 in c:\\users\\adarsh kotawar\\appdata\\roaming\\python\\python312\\site-packages (from streamlit) (3.1.43)\n",
      "Requirement already satisfied: pydeck<1,>=0.8.0b4 in c:\\users\\adarsh kotawar\\appdata\\roaming\\python\\python312\\site-packages (from streamlit) (0.9.1)\n",
      "Requirement already satisfied: tornado<7,>=6.0.3 in c:\\users\\adarsh kotawar\\appdata\\roaming\\python\\python312\\site-packages (from streamlit) (6.4)\n",
      "Requirement already satisfied: watchdog>=2.1.5 in c:\\users\\adarsh kotawar\\appdata\\roaming\\python\\python312\\site-packages (from streamlit) (4.0.1)\n",
      "Requirement already satisfied: jinja2 in c:\\users\\adarsh kotawar\\appdata\\roaming\\python\\python312\\site-packages (from altair<6,>=4.0->streamlit) (3.1.3)\n",
      "Requirement already satisfied: jsonschema>=3.0 in c:\\users\\adarsh kotawar\\appdata\\roaming\\python\\python312\\site-packages (from altair<6,>=4.0->streamlit) (4.21.1)\n",
      "Requirement already satisfied: toolz in c:\\users\\adarsh kotawar\\appdata\\roaming\\python\\python312\\site-packages (from altair<6,>=4.0->streamlit) (0.12.1)\n",
      "Requirement already satisfied: colorama in c:\\users\\adarsh kotawar\\appdata\\roaming\\python\\python312\\site-packages (from click<9,>=7.0->streamlit) (0.4.6)\n",
      "Requirement already satisfied: gitdb<5,>=4.0.1 in c:\\users\\adarsh kotawar\\appdata\\roaming\\python\\python312\\site-packages (from gitpython!=3.1.19,<4,>=3.0.7->streamlit) (4.0.11)\n",
      "Requirement already satisfied: python-dateutil>=2.8.2 in c:\\users\\adarsh kotawar\\appdata\\roaming\\python\\python312\\site-packages (from pandas<3,>=1.3.0->streamlit) (2.9.0.post0)\n",
      "Requirement already satisfied: pytz>=2020.1 in c:\\users\\adarsh kotawar\\appdata\\roaming\\python\\python312\\site-packages (from pandas<3,>=1.3.0->streamlit) (2024.1)\n",
      "Requirement already satisfied: tzdata>=2022.7 in c:\\users\\adarsh kotawar\\appdata\\roaming\\python\\python312\\site-packages (from pandas<3,>=1.3.0->streamlit) (2024.1)\n",
      "Requirement already satisfied: charset-normalizer<4,>=2 in c:\\users\\adarsh kotawar\\appdata\\roaming\\python\\python312\\site-packages (from requests<3,>=2.27->streamlit) (3.3.2)\n",
      "Requirement already satisfied: idna<4,>=2.5 in c:\\users\\adarsh kotawar\\appdata\\roaming\\python\\python312\\site-packages (from requests<3,>=2.27->streamlit) (3.6)\n",
      "Requirement already satisfied: urllib3<3,>=1.21.1 in c:\\users\\adarsh kotawar\\appdata\\roaming\\python\\python312\\site-packages (from requests<3,>=2.27->streamlit) (2.2.1)\n",
      "Requirement already satisfied: certifi>=2017.4.17 in c:\\users\\adarsh kotawar\\appdata\\roaming\\python\\python312\\site-packages (from requests<3,>=2.27->streamlit) (2024.2.2)\n",
      "Requirement already satisfied: markdown-it-py>=2.2.0 in c:\\users\\adarsh kotawar\\appdata\\roaming\\python\\python312\\site-packages (from rich<14,>=10.14.0->streamlit) (3.0.0)\n",
      "Requirement already satisfied: pygments<3.0.0,>=2.13.0 in c:\\users\\adarsh kotawar\\appdata\\roaming\\python\\python312\\site-packages (from rich<14,>=10.14.0->streamlit) (2.17.2)\n",
      "Requirement already satisfied: smmap<6,>=3.0.1 in c:\\users\\adarsh kotawar\\appdata\\roaming\\python\\python312\\site-packages (from gitdb<5,>=4.0.1->gitpython!=3.1.19,<4,>=3.0.7->streamlit) (5.0.1)\n",
      "Requirement already satisfied: MarkupSafe>=2.0 in c:\\users\\adarsh kotawar\\appdata\\roaming\\python\\python312\\site-packages (from jinja2->altair<6,>=4.0->streamlit) (2.1.5)\n",
      "Requirement already satisfied: attrs>=22.2.0 in c:\\users\\adarsh kotawar\\appdata\\roaming\\python\\python312\\site-packages (from jsonschema>=3.0->altair<6,>=4.0->streamlit) (23.2.0)\n",
      "Requirement already satisfied: jsonschema-specifications>=2023.03.6 in c:\\users\\adarsh kotawar\\appdata\\roaming\\python\\python312\\site-packages (from jsonschema>=3.0->altair<6,>=4.0->streamlit) (2023.12.1)\n",
      "Requirement already satisfied: referencing>=0.28.4 in c:\\users\\adarsh kotawar\\appdata\\roaming\\python\\python312\\site-packages (from jsonschema>=3.0->altair<6,>=4.0->streamlit) (0.34.0)\n",
      "Requirement already satisfied: rpds-py>=0.7.1 in c:\\users\\adarsh kotawar\\appdata\\roaming\\python\\python312\\site-packages (from jsonschema>=3.0->altair<6,>=4.0->streamlit) (0.18.0)\n",
      "Requirement already satisfied: mdurl~=0.1 in c:\\users\\adarsh kotawar\\appdata\\roaming\\python\\python312\\site-packages (from markdown-it-py>=2.2.0->rich<14,>=10.14.0->streamlit) (0.1.2)\n",
      "Requirement already satisfied: six>=1.5 in c:\\users\\adarsh kotawar\\appdata\\roaming\\python\\python312\\site-packages (from python-dateutil>=2.8.2->pandas<3,>=1.3.0->streamlit) (1.16.0)\n",
      "Note: you may need to restart the kernel to use updated packages.\n"
     ]
    }
   ],
   "source": [
    "pip install streamlit"
   ]
  },
  {
   "cell_type": "code",
   "execution_count": 16,
   "id": "6a30129b-58d0-4385-bbf5-6cce5cbc0a88",
   "metadata": {},
   "outputs": [
    {
     "name": "stderr",
     "output_type": "stream",
     "text": [
      "'streamlit' is not recognized as an internal or external command,\n",
      "operable program or batch file.\n"
     ]
    }
   ],
   "source": [
    "!streamlit run cloudburst_predictor.py"
   ]
  },
  {
   "cell_type": "code",
   "execution_count": null,
   "id": "02e60c9b-fd49-4025-8b64-da0b995f617d",
   "metadata": {},
   "outputs": [],
   "source": []
  }
 ],
 "metadata": {
  "kernelspec": {
   "display_name": "Python 3 (ipykernel)",
   "language": "python",
   "name": "python3"
  },
  "language_info": {
   "codemirror_mode": {
    "name": "ipython",
    "version": 3
   },
   "file_extension": ".py",
   "mimetype": "text/x-python",
   "name": "python",
   "nbconvert_exporter": "python",
   "pygments_lexer": "ipython3",
   "version": "3.12.2"
  }
 },
 "nbformat": 4,
 "nbformat_minor": 5
}
